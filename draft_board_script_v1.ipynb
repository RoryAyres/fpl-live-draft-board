{
  "nbformat": 4,
  "nbformat_minor": 0,
  "metadata": {
    "colab": {
      "provenance": [],
      "authorship_tag": "ABX9TyPnbaKcIY8FEu2IdOqif8Ze",
      "include_colab_link": true
    },
    "kernelspec": {
      "name": "python3",
      "display_name": "Python 3"
    },
    "language_info": {
      "name": "python"
    }
  },
  "cells": [
    {
      "cell_type": "markdown",
      "metadata": {
        "id": "view-in-github",
        "colab_type": "text"
      },
      "source": [
        "<a href=\"https://colab.research.google.com/github/RoryAyres/fpl-live-draft-board/blob/main/draft_board_script_v1.ipynb\" target=\"_parent\"><img src=\"https://colab.research.google.com/assets/colab-badge.svg\" alt=\"Open In Colab\"/></a>"
      ]
    },
    {
      "cell_type": "markdown",
      "source": [
        "#v1.0"
      ],
      "metadata": {
        "id": "Jtr-4HLZKZv3"
      }
    },
    {
      "cell_type": "code",
      "source": [
        "from google.colab import auth\n",
        "auth.authenticate_user()\n",
        "\n",
        "import gspread\n",
        "from google.auth import default\n",
        "creds, _ = default()\n",
        "gc = gspread.authorize(creds)"
      ],
      "metadata": {
        "id": "LqPFpz965Fro"
      },
      "execution_count": 1,
      "outputs": []
    },
    {
      "cell_type": "code",
      "source": [
        "sheet_url = \"XXXXX\" # Replace with the URL to your Google Sheet\n",
        "league_id = XXXXX  # Replace with your actual league ID\n",
        "\n",
        "tab_name = str(league_id)\n",
        "choices_url = f\"https://draft.premierleague.com/api/draft/{league_id}/choices\"\n",
        "game_data_url = \"https://draft.premierleague.com/api/bootstrap-static\"\n",
        "refresh_interval = 5  # Seconds between refreshes\n",
        "\n",
        "import gspread\n",
        "from google.auth import default\n",
        "credentials, _ = default()"
      ],
      "metadata": {
        "id": "Wl-ABxUhKZv4"
      },
      "execution_count": 2,
      "outputs": []
    },
    {
      "cell_type": "code",
      "source": [
        "import gspread\n",
        "\n",
        "def get_or_create_worksheet(sheet_url, tab_name):\n",
        "    client = gspread.authorize(credentials)\n",
        "    spreadsheet = client.open_by_url(sheet_url)\n",
        "    try:\n",
        "        worksheet = spreadsheet.worksheet(tab_name)\n",
        "    except gspread.exceptions.WorksheetNotFound:\n",
        "        worksheet = spreadsheet.add_worksheet(title=tab_name, rows=\"100\", cols=\"26\") # Can replace these with exact sizes if required\n",
        "    return worksheet"
      ],
      "metadata": {
        "id": "sPZrCanPKZv6"
      },
      "execution_count": 3,
      "outputs": []
    },
    {
      "cell_type": "code",
      "source": [
        "import pandas as pd\n",
        "import requests\n",
        "import time\n",
        "from datetime import datetime, timedelta\n",
        "from gspread.utils import rowcol_to_a1\n",
        "\n",
        "def run_draft_sync():\n",
        "    position_map = {1: \"Goalkeepers\", 2: \"Defenders\", 3: \"Midfielders\", 4: \"Forwards\"}\n",
        "    draft_complete = False\n",
        "    worksheet = get_or_create_worksheet(sheet_url, tab_name)\n",
        "\n",
        "    while True:\n",
        "        try:\n",
        "            game_data = requests.get(game_data_url).json()\n",
        "            players_df = pd.DataFrame(game_data[\"elements\"])[[\"id\", \"web_name\", \"element_type\"]]\n",
        "\n",
        "            choices_response = requests.get(choices_url)\n",
        "            choices_data = choices_response.json()\n",
        "\n",
        "            now_bst = datetime.utcnow() + timedelta(hours=1)\n",
        "            timestamp = now_bst.strftime(\"%Y-%m-%d %H:%M:%S\")\n",
        "            worksheet.update(range_name=\"J1\", values=[[f\"⏱️ Last Updated: {timestamp}\"]])\n",
        "\n",
        "            if isinstance(choices_data, dict) and \"detail\" in choices_data and choices_data[\"detail\"] == \"No League matches the given query.\":\n",
        "                worksheet.update(range_name=\"B1\", values=[[\"❌ Invalid League ID.\"]])\n",
        "                print(\"Invalid league ID.\")\n",
        "                time.sleep(refresh_interval)\n",
        "                continue\n",
        "\n",
        "            choices = choices_data.get(\"choices\", [])\n",
        "            if len(choices) == 0:\n",
        "                worksheet.update(range_name=\"B1\", values=[[\"🟡 Draft Has Not Started.\"]])\n",
        "                print(\"Waiting for draft to start...\")\n",
        "                time.sleep(refresh_interval)\n",
        "                continue\n",
        "\n",
        "            choices_df = pd.DataFrame(choices)[[\"entry_name\", \"player_first_name\", \"player_last_name\", \"element\", \"index\", \"choice_time\"]]\n",
        "\n",
        "            # If entry_name and index are present, populate headers\n",
        "            if not choices_df[\"entry_name\"].isna().all() and not choices_df[\"index\"].isna().all():\n",
        "                choices_df[\"player_display\"] = choices_df[\"player_first_name\"] + \" \" + choices_df[\"player_last_name\"].str[0]\n",
        "                first_picks = choices_df.groupby(\"entry_name\")[\"index\"].min().sort_values()\n",
        "                manager_order = first_picks.index.tolist()\n",
        "                manager_first_names = (\n",
        "                    choices_df.drop_duplicates(\"entry_name\")\n",
        "                    .set_index(\"entry_name\")[\"player_display\"]\n",
        "                    .reindex(manager_order)\n",
        "                    .fillna(\"\").to_dict()\n",
        "                )\n",
        "\n",
        "                worksheet.update(range_name=\"A2\", values=[[\"\"] + [manager_first_names[m] for m in manager_order]])\n",
        "                worksheet.update(range_name=\"A3\", values=[[\"\"] + manager_order])\n",
        "\n",
        "                # Get pick progress\n",
        "                picks_made = choices_df[\"element\"].notna().sum()\n",
        "                total_picks = len(choices_df)\n",
        "                worksheet.update(range_name=\"B1\", values=[[f\"🚧 Draft In Progress ({picks_made} / {total_picks} Picks)\"]])\n",
        "            else:\n",
        "                worksheet.update(range_name=\"B1\", values=[[\"🟡 Draft Has Not Started\"]])\n",
        "                print(\"Waiting for draft to start...\")\n",
        "                time.sleep(refresh_interval)\n",
        "                continue\n",
        "\n",
        "            # If no picks made yet, wait until at least one exists to build the board\n",
        "            if choices_df[\"element\"].notna().sum() == 0:\n",
        "                print(\"Waiting for first pick...\")\n",
        "                time.sleep(refresh_interval)\n",
        "                continue\n",
        "\n",
        "            # Merge pick data and build board\n",
        "            choices_df = choices_df[choices_df[\"element\"].notna()]\n",
        "            choices_df[\"player_display\"] = choices_df[\"player_first_name\"] + \" \" + choices_df[\"player_last_name\"].str[0]\n",
        "            df = choices_df.merge(players_df, left_on=\"element\", right_on=\"id\", how=\"left\")\n",
        "            df[\"position\"] = df[\"element_type\"].map(position_map)\n",
        "            df[\"player_name\"] = df[\"web_name\"]\n",
        "\n",
        "            # Redetermine manager order\n",
        "            first_picks = df.groupby(\"entry_name\")[\"index\"].min().sort_values()\n",
        "            manager_order = first_picks.index.tolist()\n",
        "            manager_first_names = (\n",
        "                choices_df.drop_duplicates(\"entry_name\")\n",
        "                .set_index(\"entry_name\")[\"player_display\"]\n",
        "                .reindex(manager_order)\n",
        "                .fillna(\"\").to_dict()\n",
        "            )\n",
        "\n",
        "            worksheet.update(range_name=\"A2\", values=[[\"\"] + [manager_first_names[m] for m in manager_order]])\n",
        "            worksheet.update(range_name=\"A3\", values=[[\"\"] + manager_order])\n",
        "\n",
        "            df = df.sort_values([\"element_type\", \"index\"])\n",
        "            output_rows = []\n",
        "            for pos in [1, 2, 3, 4]:\n",
        "                output_rows.append([position_map[pos]] + [\"\" for _ in manager_order])\n",
        "                grouped = df[df[\"element_type\"] == pos].groupby(\"entry_name\")[\"player_name\"].apply(list).to_dict()\n",
        "                max_len = max(len(grouped.get(m, [])) for m in manager_order)\n",
        "                for i in range(max_len):\n",
        "                    row = []\n",
        "                    for m in manager_order:\n",
        "                        picks = grouped.get(m, [])\n",
        "                        row.append(picks[i] if i < len(picks) else \"\")\n",
        "                    output_rows.append([\"\"] + row)\n",
        "                output_rows.append([\"\" for _ in manager_order])\n",
        "\n",
        "            worksheet.update(range_name=\"A5\", values=output_rows)\n",
        "\n",
        "            # Final check for completion\n",
        "            if not draft_complete and picks_made == total_picks and choices_df[\"element\"].isna().sum() == 0:\n",
        "                draft_complete = True\n",
        "                original_choices_df = pd.DataFrame(choices)[[\"choice_time\"]]\n",
        "                original_choices_df[\"choice_time\"] = pd.to_datetime(original_choices_df[\"choice_time\"])\n",
        "                draft_start = original_choices_df[\"choice_time\"].min()\n",
        "                draft_end = original_choices_df[\"choice_time\"].max()\n",
        "                duration = draft_end - draft_start\n",
        "                h, rem = divmod(duration.total_seconds(), 3600)\n",
        "                m, s = divmod(rem, 60)\n",
        "                duration_str = f\"{int(h)}h {int(m)}m {int(s)}s\"\n",
        "                draft_complete_time = (draft_end + timedelta(hours=1)).strftime(\"%Y-%m-%d %H:%M:%S\")\n",
        "                worksheet.update(range_name=\"B1\", values=[[f\"✅ Draft Completed At {draft_complete_time} (Duration: {duration_str})\"]])\n",
        "                print(f\"🎉 Draft completed at {draft_complete_time} (Duration: {duration_str})\")\n",
        "                break\n",
        "\n",
        "            print(f\"✅ Updated at {timestamp} | Picks: {picks_made}\")\n",
        "            time.sleep(refresh_interval)\n",
        "\n",
        "        except Exception as e:\n",
        "            print(f\"❌ Error: {e}\")\n",
        "            time.sleep(refresh_interval)"
      ],
      "metadata": {
        "id": "jllsAOXAKZv6"
      },
      "execution_count": 4,
      "outputs": []
    },
    {
      "cell_type": "code",
      "source": [
        "run_draft_sync()"
      ],
      "metadata": {
        "id": "qc5RzR_WKZv7"
      },
      "execution_count": null,
      "outputs": []
    }
  ]
}